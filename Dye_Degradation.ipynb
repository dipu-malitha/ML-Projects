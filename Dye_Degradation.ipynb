{
  "nbformat": 4,
  "nbformat_minor": 0,
  "metadata": {
    "colab": {
      "provenance": [],
      "authorship_tag": "ABX9TyNFCiFfqhD3w1zfVH8PMmfA",
      "include_colab_link": true
    },
    "kernelspec": {
      "name": "python3",
      "display_name": "Python 3"
    },
    "language_info": {
      "name": "python"
    }
  },
  "cells": [
    {
      "cell_type": "markdown",
      "metadata": {
        "id": "view-in-github",
        "colab_type": "text"
      },
      "source": [
        "<a href=\"https://colab.research.google.com/github/dipu-malitha/dipu-malitha/blob/main/Dye_Degradation.ipynb\" target=\"_parent\"><img src=\"https://colab.research.google.com/assets/colab-badge.svg\" alt=\"Open In Colab\"/></a>"
      ]
    },
    {
      "cell_type": "markdown",
      "source": [
        "For data frame import pandas"
      ],
      "metadata": {
        "id": "5y9B66ngvYYm"
      }
    },
    {
      "cell_type": "code",
      "execution_count": 1,
      "metadata": {
        "id": "R8fiTv8fU5vr"
      },
      "outputs": [],
      "source": [
        "import pandas as pd"
      ]
    },
    {
      "cell_type": "markdown",
      "source": [
        "For regression model analysis import statsmodels"
      ],
      "metadata": {
        "id": "sw426ymqvhmU"
      }
    },
    {
      "cell_type": "code",
      "source": [
        "import statsmodels.api as sm"
      ],
      "metadata": {
        "id": "kPjZdiUGVYPc"
      },
      "execution_count": 2,
      "outputs": []
    },
    {
      "cell_type": "markdown",
      "source": [
        "Load the Excel file into a DataFrame\n",
        "Replace 'dye_degradation_data.xlsx' with the path to your Excel file"
      ],
      "metadata": {
        "id": "-jKCpUYGvr4s"
      }
    },
    {
      "cell_type": "code",
      "source": [
        "data=pd.read_excel(\"/Dye_Degradation.xlsx\")"
      ],
      "metadata": {
        "id": "O5qa48VlcE8B"
      },
      "execution_count": 3,
      "outputs": []
    },
    {
      "cell_type": "markdown",
      "source": [
        "Checking the excel file"
      ],
      "metadata": {
        "id": "207WQYdWv6qH"
      }
    },
    {
      "cell_type": "code",
      "source": [
        "print(data.head)"
      ],
      "metadata": {
        "colab": {
          "base_uri": "https://localhost:8080/",
          "height": 0
        },
        "id": "RP5DSFaYcQxr",
        "outputId": "94ed1912-e7e4-4724-f70c-6c553565c90f"
      },
      "execution_count": 4,
      "outputs": [
        {
          "output_type": "stream",
          "name": "stdout",
          "text": [
            "<bound method NDFrame.head of     Time  pH   T   C  ECL    J   AR  ED      %\n",
            "0      0   3  30  50  1.0  353  500   3   0.00\n",
            "1     15   3  30  50  1.0  353  500   3  61.47\n",
            "2     30   3  30  50  1.0  353  500   3  86.63\n",
            "3     45   3  30  50  1.0  353  500   3  91.16\n",
            "4     60   3  30  50  1.0  353  500   3  95.20\n",
            "..   ...  ..  ..  ..  ...  ...  ...  ..    ...\n",
            "95     0   7  30  50  1.0  353  500   0   0.00\n",
            "96    15   7  30  50  1.0  353  500   1  77.35\n",
            "97    30   7  30  50  1.0  353  500   2  85.10\n",
            "98    45   7  30  50  1.0  353  500   3  99.50\n",
            "99    60   7  30  50  1.0  353  500   4  91.46\n",
            "\n",
            "[100 rows x 9 columns]>\n"
          ]
        }
      ]
    },
    {
      "cell_type": "code",
      "source": [
        "print(data.info())"
      ],
      "metadata": {
        "colab": {
          "base_uri": "https://localhost:8080/",
          "height": 0
        },
        "collapsed": true,
        "id": "YnPFIOl3cgeT",
        "outputId": "272a431b-4105-4964-b3c8-c8719bfd9259"
      },
      "execution_count": 5,
      "outputs": [
        {
          "output_type": "stream",
          "name": "stdout",
          "text": [
            "<class 'pandas.core.frame.DataFrame'>\n",
            "RangeIndex: 100 entries, 0 to 99\n",
            "Data columns (total 9 columns):\n",
            " #   Column  Non-Null Count  Dtype  \n",
            "---  ------  --------------  -----  \n",
            " 0   Time    100 non-null    int64  \n",
            " 1   pH      100 non-null    int64  \n",
            " 2   T       100 non-null    int64  \n",
            " 3   C       100 non-null    int64  \n",
            " 4   ECL     100 non-null    float64\n",
            " 5   J       100 non-null    int64  \n",
            " 6   AR      100 non-null    int64  \n",
            " 7   ED      100 non-null    int64  \n",
            " 8   %       100 non-null    float64\n",
            "dtypes: float64(2), int64(7)\n",
            "memory usage: 7.2 KB\n",
            "None\n"
          ]
        }
      ]
    },
    {
      "cell_type": "markdown",
      "source": [
        "Set independent and dependent variables"
      ],
      "metadata": {
        "id": "LxqMfSBKv_4Q"
      }
    },
    {
      "cell_type": "code",
      "source": [
        "X = data[['Time','pH','T','C','ECL','J','AR','ED']]\n",
        "Y = data['%']"
      ],
      "metadata": {
        "id": "8BEXj6USdoPu"
      },
      "execution_count": 8,
      "outputs": []
    },
    {
      "cell_type": "markdown",
      "source": [
        "Set constant"
      ],
      "metadata": {
        "id": "OLOr1SnewMFK"
      }
    },
    {
      "cell_type": "code",
      "source": [
        "X = sm.add_constant(X)"
      ],
      "metadata": {
        "id": "zvFvqF8ffHpk"
      },
      "execution_count": 9,
      "outputs": []
    },
    {
      "cell_type": "markdown",
      "source": [
        "OLS data model fit"
      ],
      "metadata": {
        "id": "oxN7W5qgwRUt"
      }
    },
    {
      "cell_type": "code",
      "source": [
        "model = sm.OLS(Y, X).fit()"
      ],
      "metadata": {
        "id": "Kjx-pBx-fQju"
      },
      "execution_count": 10,
      "outputs": []
    },
    {
      "cell_type": "markdown",
      "source": [
        "Print summary"
      ],
      "metadata": {
        "id": "bWhogc51wVUQ"
      }
    },
    {
      "cell_type": "code",
      "source": [
        "print(model.summary())"
      ],
      "metadata": {
        "colab": {
          "base_uri": "https://localhost:8080/",
          "height": 0
        },
        "id": "GNNDvHjEfSMZ",
        "outputId": "d3650dda-4555-4dc6-dd55-ff70e21bfd44"
      },
      "execution_count": 11,
      "outputs": [
        {
          "output_type": "stream",
          "name": "stdout",
          "text": [
            "                            OLS Regression Results                            \n",
            "==============================================================================\n",
            "Dep. Variable:                      %   R-squared:                       0.747\n",
            "Model:                            OLS   Adj. R-squared:                  0.725\n",
            "Method:                 Least Squares   F-statistic:                     33.56\n",
            "Date:                Sat, 10 Aug 2024   Prob (F-statistic):           5.41e-24\n",
            "Time:                        04:12:58   Log-Likelihood:                -432.22\n",
            "No. Observations:                 100   AIC:                             882.4\n",
            "Df Residuals:                      91   BIC:                             905.9\n",
            "Df Model:                           8                                         \n",
            "Covariance Type:            nonrobust                                         \n",
            "==============================================================================\n",
            "                 coef    std err          t      P>|t|      [0.025      0.975]\n",
            "------------------------------------------------------------------------------\n",
            "const         -3.6360     31.004     -0.117      0.907     -65.222      57.950\n",
            "Time           1.4500      0.093     15.538      0.000       1.265       1.635\n",
            "pH             0.8897      1.511      0.589      0.557      -2.112       3.891\n",
            "T             -0.0362      0.387     -0.094      0.926      -0.805       0.732\n",
            "C             -0.1787      0.147     -1.214      0.228      -0.471       0.114\n",
            "ECL            9.0796      8.431      1.077      0.284      -7.667      25.826\n",
            "J              0.0649      0.026      2.473      0.015       0.013       0.117\n",
            "AR             0.0102      0.035      0.290      0.773      -0.060       0.080\n",
            "ED            -1.3782      5.081     -0.271      0.787     -11.470       8.714\n",
            "==============================================================================\n",
            "Omnibus:                       57.519   Durbin-Watson:                   1.680\n",
            "Prob(Omnibus):                  0.000   Jarque-Bera (JB):                7.510\n",
            "Skew:                          -0.152   Prob(JB):                       0.0234\n",
            "Kurtosis:                       1.693   Cond. No.                     9.80e+03\n",
            "==============================================================================\n",
            "\n",
            "Notes:\n",
            "[1] Standard Errors assume that the covariance matrix of the errors is correctly specified.\n",
            "[2] The condition number is large, 9.8e+03. This might indicate that there are\n",
            "strong multicollinearity or other numerical problems.\n"
          ]
        }
      ]
    },
    {
      "cell_type": "markdown",
      "source": [
        "Prediction"
      ],
      "metadata": {
        "id": "b-Vlw--dwaSu"
      }
    },
    {
      "cell_type": "code",
      "source": [
        "new_data = pd.DataFrame({\n",
        "    'const': [1],  # Intercept term\n",
        "    'Time': [45],\n",
        "    'pH': [9],\n",
        "    'C': [60],\n",
        "    'T': [28],\n",
        "    'ECL': [1],\n",
        "    'J': [253],\n",
        "    'AR': [500],\n",
        "    'ED': [4]\n",
        "\n",
        "})"
      ],
      "metadata": {
        "id": "SzqzgqHtgVbS"
      },
      "execution_count": 18,
      "outputs": []
    },
    {
      "cell_type": "code",
      "source": [
        "predicted_efficiency = model.predict(new_data)\n",
        "print(\"Predicted Removal Efficiency:\", predicted_efficiency)"
      ],
      "metadata": {
        "colab": {
          "base_uri": "https://localhost:8080/"
        },
        "id": "FghMgcFsgcwo",
        "outputId": "88910841-20d6-498f-a898-cbde7717eca2"
      },
      "execution_count": 19,
      "outputs": [
        {
          "output_type": "stream",
          "name": "stdout",
          "text": [
            "Predicted Removal Efficiency: 0    87.538104\n",
            "dtype: float64\n"
          ]
        }
      ]
    },
    {
      "cell_type": "code",
      "source": [
        "optimumed_parameters = model.params\n",
        "print(\"Optimized Parameters:\")\n",
        "print(optimumed_parameters)"
      ],
      "metadata": {
        "colab": {
          "base_uri": "https://localhost:8080/"
        },
        "id": "Fj5hMbpohsIX",
        "outputId": "b9527f94-0c6f-43e0-f58b-ef7fda64c598"
      },
      "execution_count": 21,
      "outputs": [
        {
          "output_type": "stream",
          "name": "stdout",
          "text": [
            "Optimized Parameters:\n",
            "const   -3.635976\n",
            "Time     1.449996\n",
            "pH       0.889750\n",
            "T       -0.036246\n",
            "C       -0.178672\n",
            "ECL      9.079644\n",
            "J        0.064897\n",
            "AR       0.010217\n",
            "ED      -1.378238\n",
            "dtype: float64\n"
          ]
        }
      ]
    },
    {
      "cell_type": "code",
      "source": [
        "optimun=model.predict(X)"
      ],
      "metadata": {
        "id": "85xq4K4YiCXN"
      },
      "execution_count": 22,
      "outputs": []
    },
    {
      "cell_type": "code",
      "source": [
        "print(optimun)"
      ],
      "metadata": {
        "colab": {
          "base_uri": "https://localhost:8080/"
        },
        "id": "i8fBDnudiLku",
        "outputId": "1a988d59-7e9a-4698-b705-1daee0ce9609"
      },
      "execution_count": 23,
      "outputs": [
        {
          "output_type": "stream",
          "name": "stdout",
          "text": [
            "0      21.974286\n",
            "1      43.724228\n",
            "2      65.474170\n",
            "3      87.224113\n",
            "4     108.974055\n",
            "         ...    \n",
            "95     29.668000\n",
            "96     50.039704\n",
            "97     70.411408\n",
            "98     90.783113\n",
            "99    111.154817\n",
            "Length: 100, dtype: float64\n"
          ]
        }
      ]
    }
  ]
}